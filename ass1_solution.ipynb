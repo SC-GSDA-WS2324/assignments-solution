{
 "cells": [
  {
   "cell_type": "markdown",
   "metadata": {},
   "source": [
    "<div class='bar_title'></div>\n",
    "\n",
    "*Smart Cities and Geospatial Data Analysis*\n",
    "\n",
    "# Assignment 1: Setting up everything\n",
    "\n",
    "Gunther Gust / Ignacio Ubeda<br>\n",
    "Chair for Enterprise AI\n",
    "\n",
    "Winter Semester 23/24"
   ]
  },
  {
   "cell_type": "markdown",
   "metadata": {},
   "source": [
    "*Credits: Most of the material is taken from [Arribas-Bel, Geographic Data Science](https://darribas.org/gds_course/content/home.html#)*"
   ]
  },
  {
   "cell_type": "code",
   "execution_count": 1,
   "metadata": {
    "tags": [
     "remove-cell"
    ]
   },
   "outputs": [],
   "source": [
    "from IPython.display import IFrame"
   ]
  },
  {
   "cell_type": "markdown",
   "metadata": {},
   "source": [
    "## Task I: Familiarize yourself with Git\n",
    "\n",
    "For this very first task, all you need to do is to make sure you are all set up to follow the assignments of this course. \n",
    "\n",
    "1. Download the git tutorial available in the WueCampus course. Make sure you understand how to create a Git Codespaces environment and the submission workflow\n",
    "1. Create a new branch and initialize a codespaces environment\n",
    "1. Complete the Task III and submit your notebook following the steps of the submission workflow\n",
    "\n",
    "## Task II: Familiarize yourself with Jupyter Notebooks\n",
    "\n",
    "For this second task, you'll get to know how to work with Jupyter Notebooks. For doing so, please watch the video in the **Jupyter Notebooks** section from the [Geographic Data Science course](https://darribas.org/gds_course/content/bA/lab_A.html).\n",
    "\n",
    "**Note**: Don't confuse you with the video of the **Jupyter Lab** section. We're not going to use Jupyter Lab for our course.\n",
    "\n",
    "## Task III: Master Markdown\n",
    "\n",
    "For this third task, we are going to focus on getting to know Markdown a bit better. Remember Markdown is the technology that'll allow us to render text within a notebook. To get familiar with Markdown and how you can style up your text cells, start by reading [this resource](https://guides.github.com/features/mastering-markdown/).\n",
    "\n",
    "To practise its syntax, try to reproduce the following WikiPedia entry:\n",
    "\n",
    "> [https://en.wikipedia.org/wiki/Chocolate_chip_cookie_dough_ice_cream](https://en.wikipedia.org/wiki/Chocolate_chip_cookie_dough_ice_cream)"
   ]
  },
  {
   "cell_type": "code",
   "execution_count": 2,
   "metadata": {
    "tags": [
     "remove-input"
    ]
   },
   "outputs": [
    {
     "data": {
      "text/html": [
       "\n",
       "        <iframe\n",
       "            width=\"700\"\n",
       "            height=\"300\"\n",
       "            src=\"https://en.wikipedia.org/wiki/Chocolate_chip_cookie_dough_ice_cream\"\n",
       "            frameborder=\"0\"\n",
       "            allowfullscreen\n",
       "        ></iframe>\n",
       "        "
      ],
      "text/plain": [
       "<IPython.lib.display.IFrame at 0x7f5ad0167650>"
      ]
     },
     "execution_count": 2,
     "metadata": {},
     "output_type": "execute_result"
    }
   ],
   "source": [
    "IFrame(\"https://en.wikipedia.org/wiki/Chocolate_chip_cookie_dough_ice_cream\",\n",
    "       width=700,\n",
    "       height=300\n",
    "      )"
   ]
  },
  {
   "cell_type": "markdown",
   "metadata": {},
   "source": [
    "```{tip}\n",
    "Do not over think it. Focus on getting the bold, italics, links, headlines and lists correctly formated, but don't worry too much about the overall layout. Bonus if you manage to insert the image as well (it does not need to be properly placed as in the original page)!\n",
    "```"
   ]
  },
  {
   "cell_type": "markdown",
   "metadata": {},
   "source": [
    "## Chocolate chip cookie dough ice cream\n",
    "\n",
    "From Wikipedia, the free encyclopedia\n",
    "\n",
    "**Chocolate chip cookie dough ice cream** is a popular [ice cream](https://en.wikipedia.org/wiki/Ice_cream) flavor in which unbaked chunks of [chocolate chip](https://en.wikipedia.org/wiki/Chocolate_chip) [cookie dough](https://en.wikipedia.org/wiki/Cookie_dough) are embedded in [vanilla flavored ice cream](https://en.wikipedia.org/wiki/Vanilla_ice_cream).\n",
    "\n",
    "\n",
    "![Chocolate chip cookie dough ice cream](https://upload.wikimedia.org/wikipedia/commons/thumb/7/70/Chocolate_chip_cookie_dough_ice_cream_with_orange_spoon.jpg/1599px-Chocolate_chip_cookie_dough_ice_cream_with_orange_spoon.jpg)\n",
    "\n",
    "|             |             |\n",
    "| ----------- | ----------- |\n",
    "| **Type**      | [Ice cream](https://en.wikipedia.org/wiki/Ice_cream)       |\n",
    "| **Place of origin**   | [United States](https://en.wikipedia.org/wiki/United_States)        |\n",
    "| **Created by**   | [Ben & Jerry's](https://en.wikipedia.org/wiki/Ben_%26_Jerry%27s)        |\n",
    "| **Main ingredients**   | [Chocolate chip cookie](https://en.wikipedia.org/wiki/Chocolate_chip_cookie) dough, [ice cream](https://en.wikipedia.org/wiki/Ice_cream)        |\n",
    "\n",
    "### History\n",
    "---\n",
    "\n",
    "Chocolate chip cookie dough ice cream was said to have originated in 1984 at the first [Ben & Jerry's ](https://en.wikipedia.org/wiki/Ben_%26_Jerry%27s) \"scoop shop\" in [Burlington, Vermont](https://en.wikipedia.org/wiki/Burlington,_Vermont), from an anonymous suggestion on their flavor suggestion board.<a name=\"cite_ref-1\"></a>[<sup>[1]</sup>](#cite_note-1) In 1991, Ben & Jerry's began selling pints of the flavor which quickly became popular with consumers. By 1992, chocolate chip cookie dough accounted for 20 percent of the company's total ice cream sales, and other ice cream manufacturers such as [Dreyer's](https://en.wikipedia.org/wiki/Dreyer%27s) and [Mrs. Fields](https://en.wikipedia.org/wiki/Mrs._Fields) began making their own versions of the flavor. <a name=\"cite_ref-2\"></a>[<sup>[2]</sup>](#cite_note-2)\n",
    "\n",
    "\n",
    "### Preparation\n",
    "---\n",
    "\n",
    "Beginning in 1990, [Rhino Foods](https://en.wikipedia.org/wiki/Rhino_Foods) manufactured the cookie dough used in Ben & Jerry's chocolate chip cookie dough ice cream. They invented a technique for maintaining the chewy consistency of the cookie dough when frozen, which the founder described as a \"technological breakthrough\".<a name=\"cite_ref-3\"></a>[<sup>[3]</sup>](#cite_note-3)\n",
    "\n",
    "Because of the [health risks of eating raw cookie dough](https://en.wikipedia.org/wiki/Cookie_dough#Health_risks), the dough used in cookie dough ice cream is pasteurized and heat-treated. For this reason, the dough is not suitable for baking.<a name=\"cite_ref-4\"></a>[<sup>[4]</sup>](#cite_note-4)\n",
    "\n",
    "\n",
    "### See also\n",
    "---\n",
    "\n",
    "- [Cookies and cream](https://en.wikipedia.org/wiki/Cookies_and_cream)\n",
    "- [Stracciatella (ice cream)](https://en.wikipedia.org/wiki/Stracciatella_(ice_cream))\n",
    "- [List of ice cream flavors](https://en.wikipedia.org/wiki/List_of_ice_cream_flavors)\n",
    "\n",
    "\n",
    "\n",
    "\n",
    "### References\n",
    "---\n",
    "\n",
    "<a name=\"cite_note-1\"></a>1. [^](#cite_ref-1) [\"Ben & Jerry's Most Popular Flavour Was Invented in 1984\"](https://web.archive.org/web/20190626043328/https://www.benandjerrys.ca/en/whats-new/cookie-dough-legendary). *benandjerrys.ca*. Archived from [the original](https://www.benandjerrys.ca/en/whats-new/cookie-dough-legendary) on 26 June 2019. Retrieved 26 June 2019.\n",
    "\n",
    "<a name=\"cite_note-2\"></a>2. [^](#cite_ref-2) Lii, Jane H. (2 August 1992). [\"All About/Ice Cream; In the Cut-Throat World of Ice Cream, Flavor mania!\"](https://www.nytimes.com/1992/08/02/business/all-about-ice-cream-in-the-cut-throat-world-of-ice-cream-flavormania.html). *The New York Times*.\n",
    "\n",
    "<a name=\"cite_note-3\"></a>3. [^](#cite_ref-3) Vaughan-Hughes, Pip. [\"Rollin' in Dough\"](https://web.archive.org/web/20171113103712/http://www.vermontguides.com/1999/12-dec/dec2.htm). *vermontguides.com*. Archived from [the original](https://www.vermontguides.com/1999/12-dec/dec2.htm) on 13 November 2017. Retrieved 20 August 2009.\n",
    "\n",
    "<a name=\"cite_note-4\"></a>4. [^](#cite_ref-4) Hoffman, Jan (22 November 2017). [\"Thanks a Lot! New Reasons Not to Eat Cookie Dough\"](https://web.archive.org/web/20171123001907/https://www.nytimes.com/2017/11/22/health/flour-raw-danger.html). *The New York Times*. Archived from [the original](https://www.nytimes.com/2017/11/22/health/flour-raw-danger.html) on 23 November 2017.\n"
   ]
  }
 ],
 "metadata": {
  "kernelspec": {
   "display_name": "Python 3",
   "language": "python",
   "name": "python3"
  },
  "language_info": {
   "codemirror_mode": {
    "name": "ipython",
    "version": 3
   },
   "file_extension": ".py",
   "mimetype": "text/x-python",
   "name": "python",
   "nbconvert_exporter": "python",
   "pygments_lexer": "ipython3",
   "version": "3.7.8"
  }
 },
 "nbformat": 4,
 "nbformat_minor": 4
}
